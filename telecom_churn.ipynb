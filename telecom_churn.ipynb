{
 "cells": [
  {
   "cell_type": "markdown",
   "metadata": {},
   "source": [
    "### Churn Prediction Model for Telecom Consumer Subcsriptions"
   ]
  },
  {
   "cell_type": "code",
   "execution_count": 53,
   "metadata": {},
   "outputs": [],
   "source": [
    "#load libraries\n",
    "import pandas as pd\n",
    "import numpy as np\n",
    "import matplotlib.pyplot as plt\n",
    "import seaborn as sns\n",
    "\n",
    "%matplotlib inline"
   ]
  },
  {
   "cell_type": "code",
   "execution_count": 54,
   "metadata": {},
   "outputs": [],
   "source": [
    "#read in the data\n",
    "churn = pd.read_csv('./data.csv')"
   ]
  },
  {
   "cell_type": "markdown",
   "metadata": {},
   "source": [
    "### Data Cleansing"
   ]
  },
  {
   "cell_type": "code",
   "execution_count": 55,
   "metadata": {
    "scrolled": true
   },
   "outputs": [
    {
     "name": "stdout",
     "output_type": "stream",
     "text": [
      "<class 'pandas.core.frame.DataFrame'>\n",
      "RangeIndex: 7043 entries, 0 to 7042\n",
      "Data columns (total 21 columns):\n",
      "customer_id              7043 non-null object\n",
      "gender                   7043 non-null object\n",
      "is_senior_citizen        7043 non-null int64\n",
      "has_partner              7043 non-null object\n",
      "has_dependents           7043 non-null object\n",
      "tenure                   7043 non-null int64\n",
      "has_phone_service        7043 non-null object\n",
      "has_multiple_lines       7043 non-null object\n",
      "has_internet_service     7043 non-null object\n",
      "has_online_security      7043 non-null object\n",
      "has_online_backup        7043 non-null object\n",
      "has_device_protection    7043 non-null object\n",
      "has_tech_support         7043 non-null object\n",
      "has_streaming_tv         7043 non-null object\n",
      "has_streaming_movies     7043 non-null object\n",
      "contract                 7043 non-null object\n",
      "has_paperless_billing    7043 non-null object\n",
      "payment_method           7043 non-null object\n",
      "monthly_charges          7043 non-null float64\n",
      "total_charges            7043 non-null object\n",
      "churned                  7043 non-null object\n",
      "dtypes: float64(1), int64(2), object(18)\n",
      "memory usage: 1.1+ MB\n"
     ]
    }
   ],
   "source": [
    "#rename columns\n",
    "new_cols = ['customer_id','gender','is_senior_citizen','has_partner','has_dependents','tenure','has_phone_service','has_multiple_lines','has_internet_service','has_online_security', 'has_online_backup','has_device_protection','has_tech_support','has_streaming_tv','has_streaming_movies','contract','has_paperless_billing','payment_method','monthly_charges','total_charges','churned']\n",
    "col_name_dict = dict(zip(list(churn.columns), new_cols))\n",
    "churn.rename(columns=col_name_dict, inplace=True)\n",
    "\n",
    "#check it worked by returning info\n",
    "churn.info()"
   ]
  },
  {
   "cell_type": "code",
   "execution_count": 56,
   "metadata": {},
   "outputs": [
    {
     "data": {
      "text/plain": [
       "customer_id              0\n",
       "gender                   0\n",
       "is_senior_citizen        0\n",
       "has_partner              0\n",
       "has_dependents           0\n",
       "tenure                   0\n",
       "has_phone_service        0\n",
       "has_multiple_lines       0\n",
       "has_internet_service     0\n",
       "has_online_security      0\n",
       "has_online_backup        0\n",
       "has_device_protection    0\n",
       "has_tech_support         0\n",
       "has_streaming_tv         0\n",
       "has_streaming_movies     0\n",
       "contract                 0\n",
       "has_paperless_billing    0\n",
       "payment_method           0\n",
       "monthly_charges          0\n",
       "total_charges            0\n",
       "churned                  0\n",
       "dtype: int64"
      ]
     },
     "execution_count": 56,
     "metadata": {},
     "output_type": "execute_result"
    }
   ],
   "source": [
    "#count number of nulls in each field\n",
    "churn.isnull().sum()"
   ]
  },
  {
   "cell_type": "code",
   "execution_count": 57,
   "metadata": {
    "scrolled": false
   },
   "outputs": [
    {
     "data": {
      "text/html": [
       "<div>\n",
       "<style scoped>\n",
       "    .dataframe tbody tr th:only-of-type {\n",
       "        vertical-align: middle;\n",
       "    }\n",
       "\n",
       "    .dataframe tbody tr th {\n",
       "        vertical-align: top;\n",
       "    }\n",
       "\n",
       "    .dataframe thead th {\n",
       "        text-align: right;\n",
       "    }\n",
       "</style>\n",
       "<table border=\"1\" class=\"dataframe\">\n",
       "  <thead>\n",
       "    <tr style=\"text-align: right;\">\n",
       "      <th></th>\n",
       "      <th>is_senior_citizen</th>\n",
       "      <th>tenure</th>\n",
       "      <th>monthly_charges</th>\n",
       "    </tr>\n",
       "  </thead>\n",
       "  <tbody>\n",
       "    <tr>\n",
       "      <th>count</th>\n",
       "      <td>7043.000000</td>\n",
       "      <td>7043.000000</td>\n",
       "      <td>7043.000000</td>\n",
       "    </tr>\n",
       "    <tr>\n",
       "      <th>mean</th>\n",
       "      <td>0.162147</td>\n",
       "      <td>32.371149</td>\n",
       "      <td>64.761692</td>\n",
       "    </tr>\n",
       "    <tr>\n",
       "      <th>std</th>\n",
       "      <td>0.368612</td>\n",
       "      <td>24.559481</td>\n",
       "      <td>30.090047</td>\n",
       "    </tr>\n",
       "    <tr>\n",
       "      <th>min</th>\n",
       "      <td>0.000000</td>\n",
       "      <td>0.000000</td>\n",
       "      <td>18.250000</td>\n",
       "    </tr>\n",
       "    <tr>\n",
       "      <th>25%</th>\n",
       "      <td>0.000000</td>\n",
       "      <td>9.000000</td>\n",
       "      <td>35.500000</td>\n",
       "    </tr>\n",
       "    <tr>\n",
       "      <th>50%</th>\n",
       "      <td>0.000000</td>\n",
       "      <td>29.000000</td>\n",
       "      <td>70.350000</td>\n",
       "    </tr>\n",
       "    <tr>\n",
       "      <th>75%</th>\n",
       "      <td>0.000000</td>\n",
       "      <td>55.000000</td>\n",
       "      <td>89.850000</td>\n",
       "    </tr>\n",
       "    <tr>\n",
       "      <th>max</th>\n",
       "      <td>1.000000</td>\n",
       "      <td>72.000000</td>\n",
       "      <td>118.750000</td>\n",
       "    </tr>\n",
       "  </tbody>\n",
       "</table>\n",
       "</div>"
      ],
      "text/plain": [
       "       is_senior_citizen       tenure  monthly_charges\n",
       "count        7043.000000  7043.000000      7043.000000\n",
       "mean            0.162147    32.371149        64.761692\n",
       "std             0.368612    24.559481        30.090047\n",
       "min             0.000000     0.000000        18.250000\n",
       "25%             0.000000     9.000000        35.500000\n",
       "50%             0.000000    29.000000        70.350000\n",
       "75%             0.000000    55.000000        89.850000\n",
       "max             1.000000    72.000000       118.750000"
      ]
     },
     "execution_count": 57,
     "metadata": {},
     "output_type": "execute_result"
    }
   ],
   "source": [
    "#describe the data\n",
    "churn.describe()"
   ]
  },
  {
   "cell_type": "markdown",
   "metadata": {},
   "source": [
    "Total charges is not a numerical field - why?"
   ]
  },
  {
   "cell_type": "code",
   "execution_count": 58,
   "metadata": {},
   "outputs": [
    {
     "name": "stdout",
     "output_type": "stream",
     "text": [
      "ERROR at index 488: ' '\n",
      "ERROR at index 753: ' '\n",
      "ERROR at index 936: ' '\n",
      "ERROR at index 1082: ' '\n",
      "ERROR at index 1340: ' '\n",
      "ERROR at index 3331: ' '\n",
      "ERROR at index 3826: ' '\n",
      "ERROR at index 4380: ' '\n",
      "ERROR at index 5218: ' '\n",
      "ERROR at index 6670: ' '\n",
      "ERROR at index 6754: ' '\n"
     ]
    },
    {
     "data": {
      "text/plain": [
       "[488, 753, 936, 1082, 1340, 3331, 3826, 4380, 5218, 6670, 6754]"
      ]
     },
     "execution_count": 58,
     "metadata": {},
     "output_type": "execute_result"
    }
   ],
   "source": [
    "#find values that throw an exception when converting total_charges to float and store the index values in a list\n",
    "exception_indices = []\n",
    "for i, item in enumerate(churn.total_charges):\n",
    "    try:\n",
    "        float(item)\n",
    "    except ValueError:\n",
    "        print('ERROR at index {}: {!r}'.format(i, item))\n",
    "        exception_indices.append(i)\n",
    "exception_indices"
   ]
  },
  {
   "cell_type": "markdown",
   "metadata": {},
   "source": [
    "The nulls didn't show up when I checked for nulls because these are spaces."
   ]
  },
  {
   "cell_type": "code",
   "execution_count": 59,
   "metadata": {},
   "outputs": [
    {
     "data": {
      "text/html": [
       "<div>\n",
       "<style scoped>\n",
       "    .dataframe tbody tr th:only-of-type {\n",
       "        vertical-align: middle;\n",
       "    }\n",
       "\n",
       "    .dataframe tbody tr th {\n",
       "        vertical-align: top;\n",
       "    }\n",
       "\n",
       "    .dataframe thead th {\n",
       "        text-align: right;\n",
       "    }\n",
       "</style>\n",
       "<table border=\"1\" class=\"dataframe\">\n",
       "  <thead>\n",
       "    <tr style=\"text-align: right;\">\n",
       "      <th></th>\n",
       "      <th>customer_id</th>\n",
       "      <th>gender</th>\n",
       "      <th>is_senior_citizen</th>\n",
       "      <th>has_partner</th>\n",
       "      <th>has_dependents</th>\n",
       "      <th>tenure</th>\n",
       "      <th>has_phone_service</th>\n",
       "      <th>has_multiple_lines</th>\n",
       "      <th>has_internet_service</th>\n",
       "      <th>has_online_security</th>\n",
       "      <th>...</th>\n",
       "      <th>has_device_protection</th>\n",
       "      <th>has_tech_support</th>\n",
       "      <th>has_streaming_tv</th>\n",
       "      <th>has_streaming_movies</th>\n",
       "      <th>contract</th>\n",
       "      <th>has_paperless_billing</th>\n",
       "      <th>payment_method</th>\n",
       "      <th>monthly_charges</th>\n",
       "      <th>total_charges</th>\n",
       "      <th>churned</th>\n",
       "    </tr>\n",
       "  </thead>\n",
       "  <tbody>\n",
       "    <tr>\n",
       "      <th>488</th>\n",
       "      <td>4472-LVYGI</td>\n",
       "      <td>Female</td>\n",
       "      <td>0</td>\n",
       "      <td>Yes</td>\n",
       "      <td>Yes</td>\n",
       "      <td>0</td>\n",
       "      <td>No</td>\n",
       "      <td>No phone service</td>\n",
       "      <td>DSL</td>\n",
       "      <td>Yes</td>\n",
       "      <td>...</td>\n",
       "      <td>Yes</td>\n",
       "      <td>Yes</td>\n",
       "      <td>Yes</td>\n",
       "      <td>No</td>\n",
       "      <td>Two year</td>\n",
       "      <td>Yes</td>\n",
       "      <td>Bank transfer (automatic)</td>\n",
       "      <td>52.55</td>\n",
       "      <td></td>\n",
       "      <td>No</td>\n",
       "    </tr>\n",
       "    <tr>\n",
       "      <th>753</th>\n",
       "      <td>3115-CZMZD</td>\n",
       "      <td>Male</td>\n",
       "      <td>0</td>\n",
       "      <td>No</td>\n",
       "      <td>Yes</td>\n",
       "      <td>0</td>\n",
       "      <td>Yes</td>\n",
       "      <td>No</td>\n",
       "      <td>No</td>\n",
       "      <td>No internet service</td>\n",
       "      <td>...</td>\n",
       "      <td>No internet service</td>\n",
       "      <td>No internet service</td>\n",
       "      <td>No internet service</td>\n",
       "      <td>No internet service</td>\n",
       "      <td>Two year</td>\n",
       "      <td>No</td>\n",
       "      <td>Mailed check</td>\n",
       "      <td>20.25</td>\n",
       "      <td></td>\n",
       "      <td>No</td>\n",
       "    </tr>\n",
       "    <tr>\n",
       "      <th>936</th>\n",
       "      <td>5709-LVOEQ</td>\n",
       "      <td>Female</td>\n",
       "      <td>0</td>\n",
       "      <td>Yes</td>\n",
       "      <td>Yes</td>\n",
       "      <td>0</td>\n",
       "      <td>Yes</td>\n",
       "      <td>No</td>\n",
       "      <td>DSL</td>\n",
       "      <td>Yes</td>\n",
       "      <td>...</td>\n",
       "      <td>Yes</td>\n",
       "      <td>No</td>\n",
       "      <td>Yes</td>\n",
       "      <td>Yes</td>\n",
       "      <td>Two year</td>\n",
       "      <td>No</td>\n",
       "      <td>Mailed check</td>\n",
       "      <td>80.85</td>\n",
       "      <td></td>\n",
       "      <td>No</td>\n",
       "    </tr>\n",
       "    <tr>\n",
       "      <th>1082</th>\n",
       "      <td>4367-NUYAO</td>\n",
       "      <td>Male</td>\n",
       "      <td>0</td>\n",
       "      <td>Yes</td>\n",
       "      <td>Yes</td>\n",
       "      <td>0</td>\n",
       "      <td>Yes</td>\n",
       "      <td>Yes</td>\n",
       "      <td>No</td>\n",
       "      <td>No internet service</td>\n",
       "      <td>...</td>\n",
       "      <td>No internet service</td>\n",
       "      <td>No internet service</td>\n",
       "      <td>No internet service</td>\n",
       "      <td>No internet service</td>\n",
       "      <td>Two year</td>\n",
       "      <td>No</td>\n",
       "      <td>Mailed check</td>\n",
       "      <td>25.75</td>\n",
       "      <td></td>\n",
       "      <td>No</td>\n",
       "    </tr>\n",
       "    <tr>\n",
       "      <th>1340</th>\n",
       "      <td>1371-DWPAZ</td>\n",
       "      <td>Female</td>\n",
       "      <td>0</td>\n",
       "      <td>Yes</td>\n",
       "      <td>Yes</td>\n",
       "      <td>0</td>\n",
       "      <td>No</td>\n",
       "      <td>No phone service</td>\n",
       "      <td>DSL</td>\n",
       "      <td>Yes</td>\n",
       "      <td>...</td>\n",
       "      <td>Yes</td>\n",
       "      <td>Yes</td>\n",
       "      <td>Yes</td>\n",
       "      <td>No</td>\n",
       "      <td>Two year</td>\n",
       "      <td>No</td>\n",
       "      <td>Credit card (automatic)</td>\n",
       "      <td>56.05</td>\n",
       "      <td></td>\n",
       "      <td>No</td>\n",
       "    </tr>\n",
       "    <tr>\n",
       "      <th>3331</th>\n",
       "      <td>7644-OMVMY</td>\n",
       "      <td>Male</td>\n",
       "      <td>0</td>\n",
       "      <td>Yes</td>\n",
       "      <td>Yes</td>\n",
       "      <td>0</td>\n",
       "      <td>Yes</td>\n",
       "      <td>No</td>\n",
       "      <td>No</td>\n",
       "      <td>No internet service</td>\n",
       "      <td>...</td>\n",
       "      <td>No internet service</td>\n",
       "      <td>No internet service</td>\n",
       "      <td>No internet service</td>\n",
       "      <td>No internet service</td>\n",
       "      <td>Two year</td>\n",
       "      <td>No</td>\n",
       "      <td>Mailed check</td>\n",
       "      <td>19.85</td>\n",
       "      <td></td>\n",
       "      <td>No</td>\n",
       "    </tr>\n",
       "    <tr>\n",
       "      <th>3826</th>\n",
       "      <td>3213-VVOLG</td>\n",
       "      <td>Male</td>\n",
       "      <td>0</td>\n",
       "      <td>Yes</td>\n",
       "      <td>Yes</td>\n",
       "      <td>0</td>\n",
       "      <td>Yes</td>\n",
       "      <td>Yes</td>\n",
       "      <td>No</td>\n",
       "      <td>No internet service</td>\n",
       "      <td>...</td>\n",
       "      <td>No internet service</td>\n",
       "      <td>No internet service</td>\n",
       "      <td>No internet service</td>\n",
       "      <td>No internet service</td>\n",
       "      <td>Two year</td>\n",
       "      <td>No</td>\n",
       "      <td>Mailed check</td>\n",
       "      <td>25.35</td>\n",
       "      <td></td>\n",
       "      <td>No</td>\n",
       "    </tr>\n",
       "    <tr>\n",
       "      <th>4380</th>\n",
       "      <td>2520-SGTTA</td>\n",
       "      <td>Female</td>\n",
       "      <td>0</td>\n",
       "      <td>Yes</td>\n",
       "      <td>Yes</td>\n",
       "      <td>0</td>\n",
       "      <td>Yes</td>\n",
       "      <td>No</td>\n",
       "      <td>No</td>\n",
       "      <td>No internet service</td>\n",
       "      <td>...</td>\n",
       "      <td>No internet service</td>\n",
       "      <td>No internet service</td>\n",
       "      <td>No internet service</td>\n",
       "      <td>No internet service</td>\n",
       "      <td>Two year</td>\n",
       "      <td>No</td>\n",
       "      <td>Mailed check</td>\n",
       "      <td>20.00</td>\n",
       "      <td></td>\n",
       "      <td>No</td>\n",
       "    </tr>\n",
       "    <tr>\n",
       "      <th>5218</th>\n",
       "      <td>2923-ARZLG</td>\n",
       "      <td>Male</td>\n",
       "      <td>0</td>\n",
       "      <td>Yes</td>\n",
       "      <td>Yes</td>\n",
       "      <td>0</td>\n",
       "      <td>Yes</td>\n",
       "      <td>No</td>\n",
       "      <td>No</td>\n",
       "      <td>No internet service</td>\n",
       "      <td>...</td>\n",
       "      <td>No internet service</td>\n",
       "      <td>No internet service</td>\n",
       "      <td>No internet service</td>\n",
       "      <td>No internet service</td>\n",
       "      <td>One year</td>\n",
       "      <td>Yes</td>\n",
       "      <td>Mailed check</td>\n",
       "      <td>19.70</td>\n",
       "      <td></td>\n",
       "      <td>No</td>\n",
       "    </tr>\n",
       "    <tr>\n",
       "      <th>6670</th>\n",
       "      <td>4075-WKNIU</td>\n",
       "      <td>Female</td>\n",
       "      <td>0</td>\n",
       "      <td>Yes</td>\n",
       "      <td>Yes</td>\n",
       "      <td>0</td>\n",
       "      <td>Yes</td>\n",
       "      <td>Yes</td>\n",
       "      <td>DSL</td>\n",
       "      <td>No</td>\n",
       "      <td>...</td>\n",
       "      <td>Yes</td>\n",
       "      <td>Yes</td>\n",
       "      <td>Yes</td>\n",
       "      <td>No</td>\n",
       "      <td>Two year</td>\n",
       "      <td>No</td>\n",
       "      <td>Mailed check</td>\n",
       "      <td>73.35</td>\n",
       "      <td></td>\n",
       "      <td>No</td>\n",
       "    </tr>\n",
       "    <tr>\n",
       "      <th>6754</th>\n",
       "      <td>2775-SEFEE</td>\n",
       "      <td>Male</td>\n",
       "      <td>0</td>\n",
       "      <td>No</td>\n",
       "      <td>Yes</td>\n",
       "      <td>0</td>\n",
       "      <td>Yes</td>\n",
       "      <td>Yes</td>\n",
       "      <td>DSL</td>\n",
       "      <td>Yes</td>\n",
       "      <td>...</td>\n",
       "      <td>No</td>\n",
       "      <td>Yes</td>\n",
       "      <td>No</td>\n",
       "      <td>No</td>\n",
       "      <td>Two year</td>\n",
       "      <td>Yes</td>\n",
       "      <td>Bank transfer (automatic)</td>\n",
       "      <td>61.90</td>\n",
       "      <td></td>\n",
       "      <td>No</td>\n",
       "    </tr>\n",
       "  </tbody>\n",
       "</table>\n",
       "<p>11 rows × 21 columns</p>\n",
       "</div>"
      ],
      "text/plain": [
       "     customer_id  gender  is_senior_citizen has_partner has_dependents  \\\n",
       "488   4472-LVYGI  Female                  0         Yes            Yes   \n",
       "753   3115-CZMZD    Male                  0          No            Yes   \n",
       "936   5709-LVOEQ  Female                  0         Yes            Yes   \n",
       "1082  4367-NUYAO    Male                  0         Yes            Yes   \n",
       "1340  1371-DWPAZ  Female                  0         Yes            Yes   \n",
       "3331  7644-OMVMY    Male                  0         Yes            Yes   \n",
       "3826  3213-VVOLG    Male                  0         Yes            Yes   \n",
       "4380  2520-SGTTA  Female                  0         Yes            Yes   \n",
       "5218  2923-ARZLG    Male                  0         Yes            Yes   \n",
       "6670  4075-WKNIU  Female                  0         Yes            Yes   \n",
       "6754  2775-SEFEE    Male                  0          No            Yes   \n",
       "\n",
       "      tenure has_phone_service has_multiple_lines has_internet_service  \\\n",
       "488        0                No   No phone service                  DSL   \n",
       "753        0               Yes                 No                   No   \n",
       "936        0               Yes                 No                  DSL   \n",
       "1082       0               Yes                Yes                   No   \n",
       "1340       0                No   No phone service                  DSL   \n",
       "3331       0               Yes                 No                   No   \n",
       "3826       0               Yes                Yes                   No   \n",
       "4380       0               Yes                 No                   No   \n",
       "5218       0               Yes                 No                   No   \n",
       "6670       0               Yes                Yes                  DSL   \n",
       "6754       0               Yes                Yes                  DSL   \n",
       "\n",
       "      has_online_security   ...   has_device_protection     has_tech_support  \\\n",
       "488                   Yes   ...                     Yes                  Yes   \n",
       "753   No internet service   ...     No internet service  No internet service   \n",
       "936                   Yes   ...                     Yes                   No   \n",
       "1082  No internet service   ...     No internet service  No internet service   \n",
       "1340                  Yes   ...                     Yes                  Yes   \n",
       "3331  No internet service   ...     No internet service  No internet service   \n",
       "3826  No internet service   ...     No internet service  No internet service   \n",
       "4380  No internet service   ...     No internet service  No internet service   \n",
       "5218  No internet service   ...     No internet service  No internet service   \n",
       "6670                   No   ...                     Yes                  Yes   \n",
       "6754                  Yes   ...                      No                  Yes   \n",
       "\n",
       "         has_streaming_tv has_streaming_movies  contract  \\\n",
       "488                   Yes                   No  Two year   \n",
       "753   No internet service  No internet service  Two year   \n",
       "936                   Yes                  Yes  Two year   \n",
       "1082  No internet service  No internet service  Two year   \n",
       "1340                  Yes                   No  Two year   \n",
       "3331  No internet service  No internet service  Two year   \n",
       "3826  No internet service  No internet service  Two year   \n",
       "4380  No internet service  No internet service  Two year   \n",
       "5218  No internet service  No internet service  One year   \n",
       "6670                  Yes                   No  Two year   \n",
       "6754                   No                   No  Two year   \n",
       "\n",
       "     has_paperless_billing             payment_method monthly_charges  \\\n",
       "488                    Yes  Bank transfer (automatic)           52.55   \n",
       "753                     No               Mailed check           20.25   \n",
       "936                     No               Mailed check           80.85   \n",
       "1082                    No               Mailed check           25.75   \n",
       "1340                    No    Credit card (automatic)           56.05   \n",
       "3331                    No               Mailed check           19.85   \n",
       "3826                    No               Mailed check           25.35   \n",
       "4380                    No               Mailed check           20.00   \n",
       "5218                   Yes               Mailed check           19.70   \n",
       "6670                    No               Mailed check           73.35   \n",
       "6754                   Yes  Bank transfer (automatic)           61.90   \n",
       "\n",
       "      total_charges churned  \n",
       "488                      No  \n",
       "753                      No  \n",
       "936                      No  \n",
       "1082                     No  \n",
       "1340                     No  \n",
       "3331                     No  \n",
       "3826                     No  \n",
       "4380                     No  \n",
       "5218                     No  \n",
       "6670                     No  \n",
       "6754                     No  \n",
       "\n",
       "[11 rows x 21 columns]"
      ]
     },
     "execution_count": 59,
     "metadata": {},
     "output_type": "execute_result"
    }
   ],
   "source": [
    "#check all rows where total_charges threw an exception\n",
    "churn.iloc[exception_indices]"
   ]
  },
  {
   "cell_type": "markdown",
   "metadata": {},
   "source": [
    "All customers that threw an exception have a 0 length tenure (they have either not started their contract or have yet to be billed)."
   ]
  },
  {
   "cell_type": "code",
   "execution_count": 60,
   "metadata": {},
   "outputs": [],
   "source": [
    "#remove these 11 rows\n",
    "churn.drop(churn.index[exception_indices], inplace = True)"
   ]
  },
  {
   "cell_type": "code",
   "execution_count": 61,
   "metadata": {},
   "outputs": [
    {
     "name": "stdout",
     "output_type": "stream",
     "text": [
      "No errors\n"
     ]
    }
   ],
   "source": [
    "#iterate over total_charges again and store indices of errors\n",
    "exception_indices = []\n",
    "for i, item in enumerate(churn.total_charges):\n",
    "    try:\n",
    "        float(item)\n",
    "    except ValueError:\n",
    "        exception_indices.append(i)\n",
    "        \n",
    "#check if any errors were stored      \n",
    "if len(exception_indices) == 0:\n",
    "    print('No errors')\n",
    "else:\n",
    "    print('Still some errors')"
   ]
  },
  {
   "cell_type": "code",
   "execution_count": 62,
   "metadata": {},
   "outputs": [],
   "source": [
    "#convert the total_charges column to float\n",
    "churn['total_charges'] = pd.to_numeric(churn.total_charges)"
   ]
  },
  {
   "cell_type": "code",
   "execution_count": 63,
   "metadata": {},
   "outputs": [],
   "source": [
    "#change \"yes\" to 1 and \"no\", \"no internet service\", and \"no phone service\" to 0 in all columns\n",
    "churn.replace(to_replace = 'Yes', value = 1, inplace = True)\n",
    "churn.replace(to_replace = 'No', value = 0, inplace = True)\n",
    "churn.replace(to_replace = 'No phone service', value = 0, inplace = True)\n",
    "churn.replace(to_replace = 'No internet service', value = 0, inplace = True)"
   ]
  },
  {
   "cell_type": "code",
   "execution_count": 64,
   "metadata": {},
   "outputs": [],
   "source": [
    "#rename gender to is_male and convert it to a binary variable\n",
    "churn.rename(columns={'gender':'is_male'}, inplace=True)\n",
    "churn['is_male'].replace(to_replace = 'Male', value = 1, inplace = True)\n",
    "churn['is_male'].replace(to_replace = 'Female', value = 0, inplace = True)"
   ]
  },
  {
   "cell_type": "code",
   "execution_count": 65,
   "metadata": {
    "scrolled": false
   },
   "outputs": [
    {
     "data": {
      "text/html": [
       "<div>\n",
       "<style scoped>\n",
       "    .dataframe tbody tr th:only-of-type {\n",
       "        vertical-align: middle;\n",
       "    }\n",
       "\n",
       "    .dataframe tbody tr th {\n",
       "        vertical-align: top;\n",
       "    }\n",
       "\n",
       "    .dataframe thead th {\n",
       "        text-align: right;\n",
       "    }\n",
       "</style>\n",
       "<table border=\"1\" class=\"dataframe\">\n",
       "  <thead>\n",
       "    <tr style=\"text-align: right;\">\n",
       "      <th></th>\n",
       "      <th>customer_id</th>\n",
       "      <th>is_male</th>\n",
       "      <th>is_senior_citizen</th>\n",
       "      <th>has_partner</th>\n",
       "      <th>has_dependents</th>\n",
       "      <th>tenure</th>\n",
       "      <th>has_phone_service</th>\n",
       "      <th>has_multiple_lines</th>\n",
       "      <th>has_internet_service</th>\n",
       "      <th>has_online_security</th>\n",
       "      <th>...</th>\n",
       "      <th>has_device_protection</th>\n",
       "      <th>has_tech_support</th>\n",
       "      <th>has_streaming_tv</th>\n",
       "      <th>has_streaming_movies</th>\n",
       "      <th>contract</th>\n",
       "      <th>has_paperless_billing</th>\n",
       "      <th>payment_method</th>\n",
       "      <th>monthly_charges</th>\n",
       "      <th>total_charges</th>\n",
       "      <th>churned</th>\n",
       "    </tr>\n",
       "  </thead>\n",
       "  <tbody>\n",
       "    <tr>\n",
       "      <th>0</th>\n",
       "      <td>7590-VHVEG</td>\n",
       "      <td>0</td>\n",
       "      <td>0</td>\n",
       "      <td>1</td>\n",
       "      <td>0</td>\n",
       "      <td>1</td>\n",
       "      <td>0</td>\n",
       "      <td>0</td>\n",
       "      <td>DSL</td>\n",
       "      <td>0</td>\n",
       "      <td>...</td>\n",
       "      <td>0</td>\n",
       "      <td>0</td>\n",
       "      <td>0</td>\n",
       "      <td>0</td>\n",
       "      <td>Month-to-month</td>\n",
       "      <td>1</td>\n",
       "      <td>Electronic check</td>\n",
       "      <td>29.85</td>\n",
       "      <td>29.85</td>\n",
       "      <td>0</td>\n",
       "    </tr>\n",
       "    <tr>\n",
       "      <th>1</th>\n",
       "      <td>5575-GNVDE</td>\n",
       "      <td>1</td>\n",
       "      <td>0</td>\n",
       "      <td>0</td>\n",
       "      <td>0</td>\n",
       "      <td>34</td>\n",
       "      <td>1</td>\n",
       "      <td>0</td>\n",
       "      <td>DSL</td>\n",
       "      <td>1</td>\n",
       "      <td>...</td>\n",
       "      <td>1</td>\n",
       "      <td>0</td>\n",
       "      <td>0</td>\n",
       "      <td>0</td>\n",
       "      <td>One year</td>\n",
       "      <td>0</td>\n",
       "      <td>Mailed check</td>\n",
       "      <td>56.95</td>\n",
       "      <td>1889.50</td>\n",
       "      <td>0</td>\n",
       "    </tr>\n",
       "    <tr>\n",
       "      <th>2</th>\n",
       "      <td>3668-QPYBK</td>\n",
       "      <td>1</td>\n",
       "      <td>0</td>\n",
       "      <td>0</td>\n",
       "      <td>0</td>\n",
       "      <td>2</td>\n",
       "      <td>1</td>\n",
       "      <td>0</td>\n",
       "      <td>DSL</td>\n",
       "      <td>1</td>\n",
       "      <td>...</td>\n",
       "      <td>0</td>\n",
       "      <td>0</td>\n",
       "      <td>0</td>\n",
       "      <td>0</td>\n",
       "      <td>Month-to-month</td>\n",
       "      <td>1</td>\n",
       "      <td>Mailed check</td>\n",
       "      <td>53.85</td>\n",
       "      <td>108.15</td>\n",
       "      <td>1</td>\n",
       "    </tr>\n",
       "    <tr>\n",
       "      <th>3</th>\n",
       "      <td>7795-CFOCW</td>\n",
       "      <td>1</td>\n",
       "      <td>0</td>\n",
       "      <td>0</td>\n",
       "      <td>0</td>\n",
       "      <td>45</td>\n",
       "      <td>0</td>\n",
       "      <td>0</td>\n",
       "      <td>DSL</td>\n",
       "      <td>1</td>\n",
       "      <td>...</td>\n",
       "      <td>1</td>\n",
       "      <td>1</td>\n",
       "      <td>0</td>\n",
       "      <td>0</td>\n",
       "      <td>One year</td>\n",
       "      <td>0</td>\n",
       "      <td>Bank transfer (automatic)</td>\n",
       "      <td>42.30</td>\n",
       "      <td>1840.75</td>\n",
       "      <td>0</td>\n",
       "    </tr>\n",
       "    <tr>\n",
       "      <th>4</th>\n",
       "      <td>9237-HQITU</td>\n",
       "      <td>0</td>\n",
       "      <td>0</td>\n",
       "      <td>0</td>\n",
       "      <td>0</td>\n",
       "      <td>2</td>\n",
       "      <td>1</td>\n",
       "      <td>0</td>\n",
       "      <td>Fiber optic</td>\n",
       "      <td>0</td>\n",
       "      <td>...</td>\n",
       "      <td>0</td>\n",
       "      <td>0</td>\n",
       "      <td>0</td>\n",
       "      <td>0</td>\n",
       "      <td>Month-to-month</td>\n",
       "      <td>1</td>\n",
       "      <td>Electronic check</td>\n",
       "      <td>70.70</td>\n",
       "      <td>151.65</td>\n",
       "      <td>1</td>\n",
       "    </tr>\n",
       "  </tbody>\n",
       "</table>\n",
       "<p>5 rows × 21 columns</p>\n",
       "</div>"
      ],
      "text/plain": [
       "  customer_id  is_male  is_senior_citizen  has_partner  has_dependents  \\\n",
       "0  7590-VHVEG        0                  0            1               0   \n",
       "1  5575-GNVDE        1                  0            0               0   \n",
       "2  3668-QPYBK        1                  0            0               0   \n",
       "3  7795-CFOCW        1                  0            0               0   \n",
       "4  9237-HQITU        0                  0            0               0   \n",
       "\n",
       "   tenure  has_phone_service  has_multiple_lines has_internet_service  \\\n",
       "0       1                  0                   0                  DSL   \n",
       "1      34                  1                   0                  DSL   \n",
       "2       2                  1                   0                  DSL   \n",
       "3      45                  0                   0                  DSL   \n",
       "4       2                  1                   0          Fiber optic   \n",
       "\n",
       "   has_online_security   ...     has_device_protection  has_tech_support  \\\n",
       "0                    0   ...                         0                 0   \n",
       "1                    1   ...                         1                 0   \n",
       "2                    1   ...                         0                 0   \n",
       "3                    1   ...                         1                 1   \n",
       "4                    0   ...                         0                 0   \n",
       "\n",
       "   has_streaming_tv  has_streaming_movies        contract  \\\n",
       "0                 0                     0  Month-to-month   \n",
       "1                 0                     0        One year   \n",
       "2                 0                     0  Month-to-month   \n",
       "3                 0                     0        One year   \n",
       "4                 0                     0  Month-to-month   \n",
       "\n",
       "  has_paperless_billing             payment_method monthly_charges  \\\n",
       "0                     1           Electronic check           29.85   \n",
       "1                     0               Mailed check           56.95   \n",
       "2                     1               Mailed check           53.85   \n",
       "3                     0  Bank transfer (automatic)           42.30   \n",
       "4                     1           Electronic check           70.70   \n",
       "\n",
       "   total_charges  churned  \n",
       "0          29.85        0  \n",
       "1        1889.50        0  \n",
       "2         108.15        1  \n",
       "3        1840.75        0  \n",
       "4         151.65        1  \n",
       "\n",
       "[5 rows x 21 columns]"
      ]
     },
     "execution_count": 65,
     "metadata": {},
     "output_type": "execute_result"
    }
   ],
   "source": [
    "churn.head()"
   ]
  },
  {
   "cell_type": "markdown",
   "metadata": {},
   "source": [
    "### Feature engineering"
   ]
  },
  {
   "cell_type": "code",
   "execution_count": 66,
   "metadata": {},
   "outputs": [],
   "source": [
    "#store these payment_method categories in a list to use as reference after dummies created\n",
    "payment_method_types = set(churn.payment_method)"
   ]
  },
  {
   "cell_type": "code",
   "execution_count": 67,
   "metadata": {},
   "outputs": [],
   "source": [
    "#store these contract categories in a list to use as reference after dummies created\n",
    "contract_types = set(churn.contract)"
   ]
  },
  {
   "cell_type": "code",
   "execution_count": 68,
   "metadata": {},
   "outputs": [],
   "source": [
    "#convert the three fields to dummy variables\n",
    "churn = pd.get_dummies(churn, columns=['has_internet_service', 'contract', 'payment_method'], drop_first=True)"
   ]
  },
  {
   "cell_type": "code",
   "execution_count": 69,
   "metadata": {},
   "outputs": [],
   "source": [
    "#fix the names of these new dummy columns\n",
    "churn.rename(columns={'has_internet_service_DSL':'has_dsl','has_internet_service_Fiber optic':'has_fiber', 'contract_One year':'contract_one_yr','contract_Two year':'contract_two_yr', 'payment_method_Credit card (automatic)':'payment_method_credit','payment_method_Electronic check':'payment_method_echeck', 'payment_method_Mailed check':'payment_method_mail'}, inplace=True)"
   ]
  },
  {
   "cell_type": "code",
   "execution_count": 70,
   "metadata": {},
   "outputs": [],
   "source": [
    "#define product columns\n",
    "product_columns = ['has_phone_service', 'has_online_security','has_online_backup','has_device_protection','has_tech_support','has_streaming_tv','has_streaming_movies','has_dsl','has_fiber']\n",
    "#create a column to count the number of products a customer has\n",
    "churn['num_products'] = churn[product_columns].sum(axis=1)"
   ]
  },
  {
   "cell_type": "code",
   "execution_count": 71,
   "metadata": {},
   "outputs": [],
   "source": [
    "#drop the customer_id column\n",
    "churn = churn.iloc[:,1:]"
   ]
  },
  {
   "cell_type": "code",
   "execution_count": 72,
   "metadata": {
    "scrolled": false
   },
   "outputs": [
    {
     "name": "stdout",
     "output_type": "stream",
     "text": [
      "<class 'pandas.core.frame.DataFrame'>\n",
      "Int64Index: 7032 entries, 0 to 7042\n",
      "Data columns (total 25 columns):\n",
      "is_male                  7032 non-null int64\n",
      "is_senior_citizen        7032 non-null int64\n",
      "has_partner              7032 non-null int64\n",
      "has_dependents           7032 non-null int64\n",
      "tenure                   7032 non-null int64\n",
      "has_phone_service        7032 non-null int64\n",
      "has_multiple_lines       7032 non-null int64\n",
      "has_online_security      7032 non-null int64\n",
      "has_online_backup        7032 non-null int64\n",
      "has_device_protection    7032 non-null int64\n",
      "has_tech_support         7032 non-null int64\n",
      "has_streaming_tv         7032 non-null int64\n",
      "has_streaming_movies     7032 non-null int64\n",
      "has_paperless_billing    7032 non-null int64\n",
      "monthly_charges          7032 non-null float64\n",
      "total_charges            7032 non-null float64\n",
      "churned                  7032 non-null int64\n",
      "has_dsl                  7032 non-null uint8\n",
      "has_fiber                7032 non-null uint8\n",
      "contract_one_yr          7032 non-null uint8\n",
      "contract_two_yr          7032 non-null uint8\n",
      "payment_method_credit    7032 non-null uint8\n",
      "payment_method_echeck    7032 non-null uint8\n",
      "payment_method_mail      7032 non-null uint8\n",
      "num_products             7032 non-null int64\n",
      "dtypes: float64(2), int64(16), uint8(7)\n",
      "memory usage: 1.1 MB\n"
     ]
    }
   ],
   "source": [
    "#look at dataframe info with new columns\n",
    "churn.info()"
   ]
  },
  {
   "cell_type": "markdown",
   "metadata": {},
   "source": [
    "### EDA"
   ]
  },
  {
   "cell_type": "code",
   "execution_count": 73,
   "metadata": {},
   "outputs": [
    {
     "name": "stdout",
     "output_type": "stream",
     "text": [
      "['is_male', 'is_senior_citizen', 'has_partner', 'has_dependents', 'has_phone_service', 'has_multiple_lines', 'has_online_security', 'has_online_backup', 'has_device_protection', 'has_tech_support', 'has_streaming_tv', 'has_streaming_movies', 'has_paperless_billing', 'churned', 'has_dsl', 'has_fiber', 'contract_one_yr', 'contract_two_yr', 'payment_method_credit', 'payment_method_echeck', 'payment_method_mail']\n",
      "Number of binary columns: 21\n"
     ]
    }
   ],
   "source": [
    "#produce a list of columns that are binary\n",
    "binary_cols = []\n",
    "for i in churn.columns:\n",
    "    if len(set(churn[i])) == 2:\n",
    "        binary_cols.append(i)\n",
    "churn_binary_cols = churn[binary_cols]\n",
    "print(binary_cols)\n",
    "print('Number of binary columns: ' + str(len(binary_cols)))"
   ]
  },
  {
   "cell_type": "code",
   "execution_count": 74,
   "metadata": {},
   "outputs": [
    {
     "data": {
      "image/png": "[encoded data removed]",
      "text/plain": [
       "<matplotlib.figure.Figure at 0x7fbfcbd03358>"
      ]
     },
     "metadata": {},
     "output_type": "display_data"
    }
   ],
   "source": [
    "#loop over all columns, produce histogram and print in a subplot\n",
    "fig = plt.figure(figsize=(15,12))\n",
    "#loop over all columns\n",
    "for i in range(0, churn_binary_cols.shape[1]):\n",
    "    plt.subplot(6,6,i+1)\n",
    "    f = plt.gca()\n",
    "    f.axes.get_yaxis().set_visible(True)\n",
    "    f.set_title(churn_binary_cols.columns.values[i])\n",
    "    \n",
    "    plt.hist(churn_binary_cols.iloc[:, i], bins = 2)\n",
    "\n",
    "plt.tight_layout()"
   ]
  },
  {
   "cell_type": "markdown",
   "metadata": {},
   "source": [
    "I want to take a look at distribution of tenure and monthly charges a bit closer"
   ]
  },
  {
   "cell_type": "code",
   "execution_count": 75,
   "metadata": {
    "scrolled": false
   },
   "outputs": [
    {
     "data": {
      "image/png": "[encoded data removed]",
      "text/plain": [
       "<matplotlib.figure.Figure at 0x7fbfcbcf7ba8>"
      ]
     },
     "metadata": {},
     "output_type": "display_data"
    }
   ],
   "source": [
    "#plot a histogram of tenure\n",
    "plt.hist(churn.tenure, bins = 10)\n",
    "plt.xlabel('tenure (number of months)')\n",
    "plt.ylabel('count of customers')\n",
    "plt.title('Distribution of tenure')\n",
    "plt.show()"
   ]
  },
  {
   "cell_type": "markdown",
   "metadata": {},
   "source": [
    "There a large number of new contracts and old contracts."
   ]
  },
  {
   "cell_type": "code",
   "execution_count": 76,
   "metadata": {
    "scrolled": true
   },
   "outputs": [
    {
     "data": {
      "image/png": "[encoded data removed]",
      "text/plain": [
       "<matplotlib.figure.Figure at 0x7fbfcb503710>"
      ]
     },
     "metadata": {},
     "output_type": "display_data"
    }
   ],
   "source": [
    "#plot a histogram of monthly charges\n",
    "plt.hist(churn.monthly_charges, bins = 10)\n",
    "plt.xlabel('Monthly recurring charges')\n",
    "plt.ylabel('Count of customers')\n",
    "plt.title('Distribution of monthly recurring charges')\n",
    "plt.show();"
   ]
  },
  {
   "cell_type": "markdown",
   "metadata": {},
   "source": [
    "There is a high volume of low revenue generators."
   ]
  },
  {
   "cell_type": "markdown",
   "metadata": {},
   "source": [
    "Let's take a look at the product mix"
   ]
  },
  {
   "cell_type": "code",
   "execution_count": 77,
   "metadata": {},
   "outputs": [
    {
     "data": {
      "image/png": "[encoded data removed]",
      "text/plain": [
       "<matplotlib.figure.Figure at 0x7fbfcb5612b0>"
      ]
     },
     "metadata": {},
     "output_type": "display_data"
    }
   ],
   "source": [
    "#plot a bar graph with a distribution of the number of products per customer\n",
    "pd.DataFrame(churn.num_products.value_counts()).sort_index().plot(kind='bar', legend = False)\n",
    "plt.xlabel('Number of products per customer')\n",
    "plt.ylabel('Number of customers')\n",
    "plt.title('Distribution of number of products per customer')\n",
    "plt.xticks(rotation=0)\n",
    "plt.show()"
   ]
  },
  {
   "cell_type": "code",
   "execution_count": 78,
   "metadata": {
    "scrolled": false
   },
   "outputs": [
    {
     "data": {
      "image/png": "[encoded data removed]",
      "text/plain": [
       "<matplotlib.figure.Figure at 0x7fbfcb4a2c18>"
      ]
     },
     "metadata": {},
     "output_type": "display_data"
    }
   ],
   "source": [
    "#plot the number of products that churners had\n",
    "pd.DataFrame(churn[churn.churned==1].num_products.value_counts()).sort_index().plot(kind='bar', legend = False);\n",
    "plt.xlabel('Number of products per customer')\n",
    "plt.ylabel('Number of customers who churned')\n",
    "plt.title('Number of products per churned customer')\n",
    "plt.xticks(rotation=0)\n",
    "plt.show()"
   ]
  },
  {
   "cell_type": "code",
   "execution_count": 140,
   "metadata": {},
   "outputs": [
    {
     "data": {
      "image/png": "[encoded data removed]",
      "text/plain": [
       "<matplotlib.figure.Figure at 0x7fbfc85d7a90>"
      ]
     },
     "metadata": {},
     "output_type": "display_data"
    }
   ],
   "source": [
    "#create a heatmap to show correlation between all variables\n",
    "sns.heatmap(churn.corr(), xticklabels=True,yticklabels=True)\n",
    "plt.title('Heatmap of correlations between all churn features')\n",
    "plt.gcf().set_size_inches(12, 8);"
   ]
  },
  {
   "cell_type": "markdown",
   "metadata": {},
   "source": [
    "Based on the heatmap, the most signifcant variables that determine churn are: tenure, has_fiber, contract_two_yr, payment_method_echeck. total_charges, monthly_charges, has_paperless_billing determine churn to a lesser extent. Surprisingly, the number of products doesn't initially seem to be significant"
   ]
  },
  {
   "cell_type": "markdown",
   "metadata": {},
   "source": [
    "### Modelling\n",
    "Models I want to use: decision tree, random forest, KNN"
   ]
  },
  {
   "cell_type": "markdown",
   "metadata": {},
   "source": [
    "#### KNN Modelling with cross fold validation (number of splits = 10)"
   ]
  },
  {
   "cell_type": "code",
   "execution_count": 80,
   "metadata": {},
   "outputs": [],
   "source": [
    "#import libraries for KNN\n",
    "from sklearn.neighbors import KNeighborsClassifier\n",
    "from sklearn.model_selection import train_test_split\n",
    "from sklearn import metrics"
   ]
  },
  {
   "cell_type": "code",
   "execution_count": 81,
   "metadata": {},
   "outputs": [],
   "source": [
    "#create features and response variable\n",
    "X = churn.drop(columns = 'churned')\n",
    "y = churn.churned"
   ]
  },
  {
   "cell_type": "code",
   "execution_count": 92,
   "metadata": {},
   "outputs": [],
   "source": [
    "#instantiate the k-fold validation\n",
    "from sklearn import model_selection\n",
    "kf = model_selection.KFold(n_splits=10, shuffle=False) #I want to maintain reproducibility"
   ]
  },
  {
   "cell_type": "code",
   "execution_count": 107,
   "metadata": {},
   "outputs": [],
   "source": [
    "#create an object to hold all the cv scores\n",
    "from sklearn.model_selection import cross_val_score\n",
    "mean_accuracy = []\n",
    "for k in range(1,201):\n",
    "    knn = KNeighborsClassifier(n_neighbors=k)\n",
    "    accuracy = cross_val_score(knn, X, y, cv=kf)\n",
    "    mean_accuracy.append([k, np.mean(accuracy)])\n",
    "mean_accuracy = pd.DataFrame(mean_accuracy)\n",
    "mean_accuracy.columns = ['k', 'accuracy']"
   ]
  },
  {
   "cell_type": "code",
   "execution_count": 138,
   "metadata": {},
   "outputs": [
    {
     "data": {
      "image/png": "[encoded data removed]",
      "text/plain": [
       "<matplotlib.figure.Figure at 0x7fbfc8892470>"
      ]
     },
     "metadata": {},
     "output_type": "display_data"
    }
   ],
   "source": [
    "#plot the mean accuracies against k\n",
    "plt.plot(mean_accuracy.k, mean_accuracy.accuracy)\n",
    "plt.title('Mean of 10 k-fold accuracy of a KNN classifier for k between 1 and 200 inclusively')\n",
    "plt.xlabel('# of neighbours (k)')\n",
    "plt.ylabel('Mean accuracy across 10 k-folds')\n",
    "plt.gcf().set_size_inches(12, 8);\n",
    "plt.show();"
   ]
  },
  {
   "cell_type": "code",
   "execution_count": 130,
   "metadata": {
    "scrolled": true
   },
   "outputs": [
    {
     "name": "stdout",
     "output_type": "stream",
     "text": [
      "Best k: 21\n",
      "Accuracy: 0.785\n"
     ]
    }
   ],
   "source": [
    "#return the best k (highest accuracy)\n",
    "print('Best k: ' + str(mean_accuracy['accuracy'].idxmax()+1))\n",
    "print('Accuracy: ' + str(round(mean_accuracy.accuracy[mean_accuracy['accuracy'].idxmax()],3)))"
   ]
  },
  {
   "cell_type": "markdown",
   "metadata": {},
   "source": [
    "But I'm not sure what the most important variables are! So...."
   ]
  },
  {
   "cell_type": "markdown",
   "metadata": {},
   "source": [
    "### Decision tree"
   ]
  },
  {
   "cell_type": "code",
   "execution_count": 142,
   "metadata": {},
   "outputs": [
    {
     "data": {
      "text/plain": [
       "DecisionTreeClassifier(class_weight=None, criterion='gini', max_depth=None,\n",
       "            max_features=None, max_leaf_nodes=None,\n",
       "            min_impurity_decrease=0.0, min_impurity_split=None,\n",
       "            min_samples_leaf=1, min_samples_split=2,\n",
       "            min_weight_fraction_leaf=0.0, presort=False, random_state=1,\n",
       "            splitter='best')"
      ]
     },
     "execution_count": 142,
     "metadata": {},
     "output_type": "execute_result"
    }
   ],
   "source": [
    "#import the decision tree regresser\n",
    "from sklearn.tree import DecisionTreeClassifier\n",
    "\n",
    "#instantiate the decision tree regressor\n",
    "treeclass = DecisionTreeClassifier(random_state=1)\n",
    "treeclass"
   ]
  },
  {
   "cell_type": "code",
   "execution_count": null,
   "metadata": {},
   "outputs": [],
   "source": []
  }
 ],
 "metadata": {
  "kernelspec": {
   "display_name": "Python 3",
   "language": "python",
   "name": "python3"
  },
  "language_info": {
   "codemirror_mode": {
    "name": "ipython",
    "version": 3
   },
   "file_extension": ".py",
   "mimetype": "text/x-python",
   "name": "python",
   "nbconvert_exporter": "python",
   "pygments_lexer": "ipython3",
   "version": "3.6.4"
  }
 },
 "nbformat": 4,
 "nbformat_minor": 2
}
